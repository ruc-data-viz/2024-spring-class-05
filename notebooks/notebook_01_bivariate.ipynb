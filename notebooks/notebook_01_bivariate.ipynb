{
 "cells": [
  {
   "cell_type": "markdown",
   "id": "ccab23d3-5995-4006-a331-50deca0701c1",
   "metadata": {},
   "source": [
    "# Bivariate Data\n",
    "\n",
    "In this notebook we are going to look at some simple bivariate data.\n",
    "\n",
    "## What is Bivariate Data?\n",
    "\n",
    "As the name implies, bivariate data is data that consists of two variables. We compare and analyze the two variables with respect to one another in order to attempt to find and/or explain the relationship between them. It is also possible that one of these variables depends on the other, in which case we have an independent variable and a dependent variable.\n",
    "\n",
    "* altitude and air density\n",
    "* ice cream sales and temperature throughout a day\n",
    "* mana cost of a MTG card and the turns remaining in a game\n",
    "\n",
    "When we have bivariate data, there are some simple things we can do to help us understand what sort of relationship our variables have with one another. We want to be able to visualize our data as well as visualize the relationship (if there is one) and quantify it. We can use a combination of `pandas`, `numpy`, and `matplotlib`/`seaborn`/`bokeh` to handle the analysis and visualization.\n",
    "\n",
    "Let's take a look at a few different datasets that contain bivariate data.\n",
    "\n",
    "### Examples\n",
    "\n",
    "First let's consider data from the *U.S. Standard Atmostphere 1976*. We simply want to look at how the density of air changes as we move higher into the atmosphere. In our simple data set (a full one has been provided) consists of altitudes in meters and densities in kilograms per meters cubed.\n",
    "\n",
    "The original data and model can be found in its original form, provided by NASA [here](https://ntrs.nasa.gov/api/citations/19770009539/downloads/19770009539.pdf). We however are using a stripped down version sourced from [here](https://www.engineeringtoolbox.com/standard-atmosphere-d_604.html)."
   ]
  },
  {
   "cell_type": "code",
   "execution_count": null,
   "id": "059e1ea5-fa0e-4649-bebd-2820676a3cbe",
   "metadata": {},
   "outputs": [],
   "source": [
    "import pandas as pd\n",
    "atmos = pd.read_csv('_resources/atmosphere_simple.csv')\n",
    "atmos"
   ]
  },
  {
   "cell_type": "code",
   "execution_count": null,
   "id": "c0219441-6f04-40be-9484-16b3ce30bbf8",
   "metadata": {},
   "outputs": [],
   "source": [
    "atmos.plot.scatter(\n",
    "    x='altitude',\n",
    "    y='air_density',\n",
    "    xlabel='Altitude (m)',\n",
    "    ylabel='Density of Air ($kg/m^{3}$)',\n",
    "    title='U.S. Standard Atmosphere, Altitude vs. Density of Air'\n",
    ")"
   ]
  },
  {
   "cell_type": "markdown",
   "id": "f4df93b4-bf21-4fe5-be74-0b9c1366730b",
   "metadata": {},
   "source": [
    "We can see that there is a pretty strong relationship between these two variables (in the direction that we expect - at higher altitudes air is much thinner!). We can see too that this relationship is non-linear - air density rapidly decreases as we ascend to about 20km in altitude. It seems to asymtotically approach a density of 0 as we continue upward (in reality it is not asymtotic, as it is around 100000m, or 100km, that atmospheric pressue, and thus the density of air, becomes 0)."
   ]
  },
  {
   "cell_type": "markdown",
   "id": "a8a2c3df-e4c8-446f-978e-67d1781d1c95",
   "metadata": {},
   "source": [
    "We can also take a look at [data from a study](https://www.kaggle.com/tunguz/drug-use-by-age) on drug use of individuals across multiple age groups. While the data presented has many variables, we are going to treat any drug-usage statistic and the age group as a set of bivariate data."
   ]
  },
  {
   "cell_type": "code",
   "execution_count": null,
   "id": "ad7148be-cbcf-4d3a-9198-2c0f49871e25",
   "metadata": {},
   "outputs": [],
   "source": [
    "drug_use = pd.read_csv('_resources/drug_use_by_age.csv')\n",
    "drug_use"
   ]
  },
  {
   "cell_type": "markdown",
   "id": "b9a993db-42cf-45d2-bf83-bdd03f592e78",
   "metadata": {},
   "source": [
    "We are going to look at how age and alcohol use trend with one another. We are going to add some axis labels, a title, and a rotation so the x-axis tick labels.\n",
    "\n",
    "Note that the age group is actually stored as string data, as some of our values represent ranges instead of individual vales."
   ]
  },
  {
   "cell_type": "code",
   "execution_count": null,
   "id": "e1274321-850e-4863-9ca9-86a417a4229d",
   "metadata": {},
   "outputs": [],
   "source": [
    "drug_use.plot.scatter(x='age', y='alcohol-use', rot=45, xlabel='Age Group', ylabel='Percentage That Consumed Alcohol', title='Age Group and Alcohol Use')"
   ]
  },
  {
   "cell_type": "markdown",
   "id": "6a112347-3ed2-4a03-a523-84c9bd35aa9e",
   "metadata": {},
   "source": [
    "We can see that our data exhibits a sort of quadratic pattern. Alcohol use seems to grow in usage as age increases to a maximum around 22 years old, and then proceeds to decrease.\n",
    "\n",
    "Note that our age axis represents a non-linear growth - the first half of our axis increases linearly by 1 every step, but then begins incrementing by more and more years for the rest of the dataset, with our final data point encompassing all ages 65 and greater."
   ]
  }
 ],
 "metadata": {
  "kernelspec": {
   "display_name": "Python 3 (ipykernel)",
   "language": "python",
   "name": "python3"
  },
  "language_info": {
   "codemirror_mode": {
    "name": "ipython",
    "version": 3
   },
   "file_extension": ".py",
   "mimetype": "text/x-python",
   "name": "python",
   "nbconvert_exporter": "python",
   "pygments_lexer": "ipython3",
   "version": "3.9.7"
  }
 },
 "nbformat": 4,
 "nbformat_minor": 5
}
