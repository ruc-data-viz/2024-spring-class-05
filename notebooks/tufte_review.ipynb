{
 "cells": [
  {
   "cell_type": "markdown",
   "metadata": {},
   "source": [
    "# Review of Key Concepts from Tufte\n",
    "\n",
    "This class loosely follows the famous book *The Visual Display of Quantitative Information* by Edward Tufte.\n",
    "\n",
    "We summarize some key concepts discussed in this book here to help with the midterm.\n",
    "\n",
    "* The use of abstract, non-representational pictures to show numbers is relatively recent. Statistical graphics were invented in the 1700s.\n",
    "* "
   ]
  }
 ],
 "metadata": {
  "language_info": {
   "name": "python"
  }
 },
 "nbformat": 4,
 "nbformat_minor": 2
}
