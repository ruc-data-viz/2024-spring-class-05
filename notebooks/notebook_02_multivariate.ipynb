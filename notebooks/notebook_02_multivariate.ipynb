{
 "cells": [
  {
   "cell_type": "markdown",
   "id": "ccab23d3-5995-4006-a331-50deca0701c1",
   "metadata": {},
   "source": [
    "# Multivariate Data\n",
    "\n",
    "In this notebook we are going to look at some simple multivariate data.\n",
    "\n",
    "## What is Multivariate Data?\n",
    "\n",
    "As the name implies, multivariate data is data that consists of more than two variables. The idea is the same is it is with bivariate data, except we have more variables to work with.\n",
    "\n",
    "### Examples\n",
    "\n",
    "Again let's consider data from the *U.S. Standard Atmostphere 1976*. We \n",
    "The original data and model can be found in its original form, provided by NASA [here](https://ntrs.nasa.gov/api/citations/19770009539/downloads/19770009539.pdf). We however are using a stripped down version sourced from [here](https://www.engineeringtoolbox.com/standard-atmosphere-d_604.html)."
   ]
  },
  {
   "cell_type": "code",
   "execution_count": null,
   "id": "059e1ea5-fa0e-4649-bebd-2820676a3cbe",
   "metadata": {},
   "outputs": [],
   "source": [
    "import pandas as pd\n",
    "atmos = pd.read_csv('_resources/atmosphere.csv')\n",
    "atmos"
   ]
  },
  {
   "cell_type": "markdown",
   "id": "d59f2102-9f46-4bcd-9c20-c2c5d86579b6",
   "metadata": {},
   "source": [
    "We can look at any two variables with respect to altitude (generally our independent variable)."
   ]
  },
  {
   "cell_type": "code",
   "execution_count": null,
   "id": "c4f026d1-35ec-4b38-9abb-ccad420a8cf7",
   "metadata": {},
   "outputs": [],
   "source": [
    "atmos.plot(\n",
    "    x='altitude',\n",
    "    y='atmospheric_pressure',\n",
    "    xlabel='Altitude (m)',\n",
    "    ylabel='Atmospheric Pressure ($10^{-5}N s/m^{2}$)',\n",
    "    title='Altitude vs. Atmospheric Pressure',\n",
    ")"
   ]
  },
  {
   "cell_type": "code",
   "execution_count": null,
   "id": "0b6f2d78-df0c-439d-aa6f-679cccd2a564",
   "metadata": {},
   "outputs": [],
   "source": [
    "atmos.plot(\n",
    "    x='altitude',\n",
    "    y='temperature',\n",
    "    xlabel='Altitude (m)',\n",
    "    ylabel='Temeprature ($^{\\circ}C$)',\n",
    "    title='Altitude vs. Temperature',\n",
    ")"
   ]
  },
  {
   "cell_type": "markdown",
   "id": "89796c6e-62a0-4c61-9357-34d5c0616572",
   "metadata": {},
   "source": [
    "Or we can plot them simulataneously on the same figure"
   ]
  },
  {
   "cell_type": "code",
   "execution_count": null,
   "id": "c0219441-6f04-40be-9484-16b3ce30bbf8",
   "metadata": {},
   "outputs": [],
   "source": [
    "ax = atmos.plot(\n",
    "    x='altitude',\n",
    "    y=['atmospheric_pressure', 'temperature'],\n",
    "    xlabel='Altitude (m)',\n",
    "    title='Altitude vs. Atmospheric Pressure & Temperature',\n",
    ")\n"
   ]
  },
  {
   "cell_type": "markdown",
   "id": "f79ec8c0-ef12-4689-806f-18cf5e05f507",
   "metadata": {},
   "source": [
    "The problem with setting both of these variables on the same plot is that numerically they are within very different ranges of values. Temperature fluctuates from 20 down to nearly -80, and our density only ranges from a little over 10.0 to nearly 0.0 - what would be beneficial is even we could place these variables on separate axes within our figure, so that they do not need to share the same range on our canvas."
   ]
  },
  {
   "cell_type": "code",
   "execution_count": null,
   "id": "a47aaa6b-2946-4b91-aee0-e837ef516d4a",
   "metadata": {},
   "outputs": [],
   "source": [
    "ax = atmos.plot(\n",
    "    x='altitude',\n",
    "    y='atmospheric_pressure',\n",
    "    xlabel='Altitude (m)',\n",
    "    ylabel='Atmospheric Pressure ($10^{-5}N s/m^{2}$)',\n",
    "    title='Altitude vs. Atmospheric Pressure & Temperature',\n",
    ")\n",
    "ax = atmos.plot(\n",
    "    x='altitude',\n",
    "    y='temperature',\n",
    "    secondary_y=True,\n",
    "    ax=ax,\n",
    ")\n",
    "ax.set_ylabel('Temeprature ($^{\\circ}C$)')\n"
   ]
  },
  {
   "cell_type": "markdown",
   "id": "d6212bda-c59a-40a7-b2b9-3b9285e83835",
   "metadata": {},
   "source": [
    "Now we can see both data sets in better detail (specifically atmospheric pressure), as temperature is added to a secondary axis. This allows us to avoid visually squashing the pressure data. We can even try to throw the rest of our metrics onto this dual-axis figure."
   ]
  },
  {
   "cell_type": "code",
   "execution_count": null,
   "id": "3c34a98a-62fd-41ec-808c-88f4331f6b19",
   "metadata": {},
   "outputs": [],
   "source": [
    "%matplotlib widget\n",
    "ax = atmos.plot(\n",
    "    x='altitude',\n",
    "    y=['gravity', 'atmospheric_pressure', 'air_density', 'dynamic_viscosity'],\n",
    "    xlabel='Altitude (m)',\n",
    "    title='How Altitude affects Atmospheric Characteristics',\n",
    ")\n",
    "ax = atmos.plot(\n",
    "    x='altitude',\n",
    "    y='temperature',\n",
    "    secondary_y=True,\n",
    "    ax=ax,\n",
    ")"
   ]
  },
  {
   "cell_type": "markdown",
   "id": "e4f47ed3-1ba2-4c01-838e-2ee9985aafdf",
   "metadata": {},
   "source": [
    "Sadly this is not an improvement, as some of our other variables are getting squisshed by the relatively large scale. We cannot add more y-axes (we could add a z-axis, but then we cannot have a secondary-y), and so we are left to make multiple plots and figures, or even rescale some of our variables to fall within similar ranges. Rescaling data like this is ok so long as it is clear what scaling was done (usually by modifying how the units are presented).\n",
    "\n",
    "The 3d plot gives us a single curve that shows how our data flows in all three dimensions, but it is not entirely useful, and we cannot add secondary axes to any of our dimensions."
   ]
  },
  {
   "cell_type": "code",
   "execution_count": null,
   "id": "a231323c-00fc-436e-90be-331154bc8f44",
   "metadata": {},
   "outputs": [],
   "source": [
    "%matplotlib widget\n",
    "import matplotlib.pyplot as plt\n",
    "from mpl_toolkits import mplot3d\n",
    "fig = plt.figure()\n",
    "ax = plt.axes(projection='3d')\n",
    "ax.scatter3D(atmos.altitude, atmos.atmospheric_pressure, atmos.temperature)\n",
    "ax.set_xlabel('Altitude (m)')\n",
    "ax.set_ylabel('Atmospheric Pressure ($10^{-5}N s/m^{2}$)')\n",
    "ax.set_zlabel('Temeprature ($^{\\circ}C$)')"
   ]
  },
  {
   "cell_type": "markdown",
   "id": "2f024b57-adf1-4117-a308-74d7d5133a2e",
   "metadata": {},
   "source": [
    "One solution to encoding multiple variables of our data into our visualzation is to employ some of the basic techniques we learned about last week - using markers and colors to represent other facets of our data, perhaps even keeping it as a 3d plot."
   ]
  },
  {
   "cell_type": "code",
   "execution_count": null,
   "id": "f344e5d4-14e2-4b62-97fa-df27c9fa5bc9",
   "metadata": {},
   "outputs": [],
   "source": [
    "%matplotlib widget\n",
    "fig, ax = plt.subplots(subplot_kw=dict(projection='3d'))\n",
    "p = ax.scatter3D(atmos.altitude, atmos.atmospheric_pressure, atmos.temperature, c=atmos.air_density, cmap='rainbow')\n",
    "\n",
    "ax.set_xlabel('Altitude (m)')\n",
    "ax.set_ylabel('Atmospheric Pressure ($10^{-5}N s/m^{2}$)')\n",
    "ax.set_zlabel('Temeprature ($^{\\circ}C$)')\n",
    "\n",
    "cb = fig.colorbar(p, shrink=0.8, pad=0.15)\n",
    "cb.set_label('Density of Air ($kg/m^{3}$)')"
   ]
  },
  {
   "cell_type": "markdown",
   "id": "81dc2a66-3eb2-47a0-b2cb-1530ed584ba6",
   "metadata": {},
   "source": [
    "There are many ways for us to work with and visualize multivariate data, but it is highly dependent on the data. Data that consists of clusters of data can be visualized using methods like parallel coordinate/Andrews Curves; data that consists of categorical data may be representable with a radar plot; and sometimes the data just needs to be manipulated in ways to reduce what an analyst is looking at. We will soon be looking in more detail on how to cluster and group data, especially when working with data that is not directly categorical."
   ]
  }
 ],
 "metadata": {
  "kernelspec": {
   "display_name": "Python 3 (ipykernel)",
   "language": "python",
   "name": "python3"
  },
  "language_info": {
   "codemirror_mode": {
    "name": "ipython",
    "version": 3
   },
   "file_extension": ".py",
   "mimetype": "text/x-python",
   "name": "python",
   "nbconvert_exporter": "python",
   "pygments_lexer": "ipython3",
   "version": "3.9.7"
  }
 },
 "nbformat": 4,
 "nbformat_minor": 5
}
